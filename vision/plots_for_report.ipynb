{
 "cells": [
  {
   "cell_type": "markdown",
   "metadata": {},
   "source": [
    "# Python file for creating plots for report"
   ]
  },
  {
   "cell_type": "markdown",
   "metadata": {},
   "source": [
    "## Setup"
   ]
  },
  {
   "cell_type": "code",
   "execution_count": 2,
   "metadata": {},
   "outputs": [],
   "source": [
    "import os\n",
    "import seaborn\n",
    "import numpy as np\n",
    "import matplotlib.pyplot as plt"
   ]
  },
  {
   "cell_type": "markdown",
   "metadata": {},
   "source": [
    "## Object detectors"
   ]
  },
  {
   "cell_type": "markdown",
   "metadata": {},
   "source": [
    "Mean average precision plots"
   ]
  },
  {
   "cell_type": "code",
   "execution_count": 11,
   "metadata": {},
   "outputs": [
    {
     "data": {
      "image/png": "[encoded data removed]",
      "text/plain": [
       "<Figure size 432x288 with 1 Axes>"
      ]
     },
     "metadata": {
      "needs_background": "light"
     },
     "output_type": "display_data"
    }
   ],
   "source": [
    "map_yolov5_real = 93.10\n",
    "map_yolov5_sim = 90.44\n",
    "map_mobiledet_sim = 56.70\n",
    "map_mobiledet_real = 37.77\n",
    "\n",
    "labels = ['Simulation', 'Real world']\n",
    "\n",
    "x = np.arange(len(labels))  # the label locations\n",
    "width = 0.35  # the width of the bars\n",
    "\n",
    "fig, ax = plt.subplots()\n",
    "rects1 = ax.bar(x - width/2, [map_yolov5_sim, map_yolov5_real], width, label='Yolov5')\n",
    "rects2 = ax.bar(x + width/2, [map_mobiledet_sim, map_mobiledet_real], width, label='MobileDet')\n",
    "\n",
    "# Add some text for labels, title and custom x-axis tick labels, etc.\n",
    "ax.set_ylabel('mAP@0.5')\n",
    "ax.set_title('mAP@0.5 for simulation and real world')\n",
    "ax.set_xticks(x)\n",
    "ax.set_xticklabels(labels)\n",
    "ax.legend()\n",
    "\n",
    "def autolabel(rects):\n",
    "    \"\"\"Attach a text label above each bar in *rects*, displaying its height.\"\"\"\n",
    "    for rect in rects:\n",
    "        height = rect.get_height()\n",
    "        ax.annotate('{}'.format(height),\n",
    "                    xy=(rect.get_x() + rect.get_width() / 2, height),\n",
    "                    xytext=(0, 3),  # 3 points vertical offset\n",
    "                    textcoords=\"offset points\",\n",
    "                    ha='center', va='bottom')\n",
    "\n",
    "\n",
    "autolabel(rects1)\n",
    "autolabel(rects2)\n",
    "\n",
    "fig.tight_layout()\n",
    "\n",
    "plt.ylim([0.0, 100.0])\n",
    "plt.xlim([-1.5*width, 4.5*width])\n",
    "plt.savefig('assets/map_object_detectors.png')\n",
    "plt.show()"
   ]
  },
  {
   "cell_type": "markdown",
   "metadata": {},
   "source": [
    "True positives vs. false positives"
   ]
  },
  {
   "cell_type": "code",
   "execution_count": 26,
   "metadata": {},
   "outputs": [
    {
     "data": {
      "image/png": "[encoded data removed]",
      "text/plain": [
       "<Figure size 432x288 with 1 Axes>"
      ]
     },
     "metadata": {
      "needs_background": "light"
     },
     "output_type": "display_data"
    }
   ],
   "source": [
    "total_object_real = 261\n",
    "map_yolov5_real = [243, 3]\n",
    "map_mobiledet_real = [99, 55]\n",
    "\n",
    "total_objects_sim = 481\n",
    "map_yolov5_sim = [435, 0]\n",
    "map_mobiledet_sim = [283, 41]\n",
    "\n",
    "def plot_stacked_bar(data, series_labels, category_labels=None, \n",
    "                     show_values=False, value_format=\"{}\", y_label=None, \n",
    "                     colors=None, grid=False, reverse=False):\n",
    "    \"\"\"Plots a stacked bar chart with the data and labels provided.\n",
    "\n",
    "    Keyword arguments:\n",
    "    data            -- 2-dimensional numpy array or nested list\n",
    "                       containing data for each series in rows\n",
    "    series_labels   -- list of series labels (these appear in\n",
    "                       the legend)\n",
    "    category_labels -- list of category labels (these appear\n",
    "                       on the x-axis)\n",
    "    show_values     -- If True then numeric value labels will \n",
    "                       be shown on each bar\n",
    "    value_format    -- Format string for numeric value labels\n",
    "                       (default is \"{}\")\n",
    "    y_label         -- Label for y-axis (str)\n",
    "    colors          -- List of color labels\n",
    "    grid            -- If True display grid\n",
    "    reverse         -- If True reverse the order that the\n",
    "                       series are displayed (left-to-right\n",
    "                       or right-to-left)\n",
    "    \"\"\"\n",
    "\n",
    "    ny = len(data[0])\n",
    "    ind = list(range(ny))\n",
    "\n",
    "    axes = []\n",
    "    cum_size = np.zeros(ny)\n",
    "\n",
    "    data = np.array(data)\n",
    "\n",
    "    if reverse:\n",
    "        data = np.flip(data, axis=1)\n",
    "        category_labels = reversed(category_labels)\n",
    "\n",
    "    for i, row_data in enumerate(data):\n",
    "        color = colors[i] if colors is not None else None\n",
    "        axes.append(plt.bar(ind, row_data, bottom=cum_size, \n",
    "                            label=series_labels[i], color=color))\n",
    "        cum_size += row_data\n",
    "\n",
    "    if category_labels:\n",
    "        plt.xticks(ind, category_labels)\n",
    "\n",
    "    if y_label:\n",
    "        plt.ylabel(y_label)\n",
    "\n",
    "    plt.legend()\n",
    "\n",
    "    if grid:\n",
    "        plt.grid()\n",
    "\n",
    "    if show_values:\n",
    "        for axis in axes:\n",
    "            for bar in axis:\n",
    "                w, h = bar.get_width(), bar.get_height()\n",
    "                plt.text(bar.get_x() + w/2, bar.get_y() + h/2, \n",
    "                         value_format.format(h), ha=\"center\", \n",
    "                         va=\"center\")\n",
    "                \n",
    "series_labels = ['True positives', 'False positives']\n",
    "\n",
    "data = [\n",
    "    [map_yolov5_sim[0], map_mobiledet_sim[0], map_yolov5_real[0], map_mobiledet_real[0]],\n",
    "    [map_yolov5_sim[1], map_mobiledet_sim[1], map_yolov5_real[1], map_mobiledet_real[1]]\n",
    "]\n",
    "\n",
    "category_labels = ['Yolov5 sim', 'MobileDet sim', 'Yolov5 real', 'MobileDet real']\n",
    "\n",
    "plot_stacked_bar(\n",
    "    data, \n",
    "    series_labels, \n",
    "    category_labels=category_labels, \n",
    "    show_values=True, \n",
    "    value_format=\"{:.1f}\",\n",
    "    y_label=\"\"\n",
    ")\n",
    "\n",
    "plt.ylim([0.0, 481.0])\n",
    "plt.savefig('assets/tp_fp_object_detectors.png')\n",
    "plt.show()"
   ]
  },
  {
   "cell_type": "markdown",
   "metadata": {},
   "source": [
    "Precision recall curve"
   ]
  },
  {
   "cell_type": "code",
   "execution_count": null,
   "metadata": {},
   "outputs": [],
   "source": [
    "map_yolov5_real = [\n",
    "    ['1.00', '1.00', '1.00', '1.00', '1.00', '1.00', '1.00', '1.00', '1.00', '1.00', '1.00', '1.00', '1.00', '1.00', '1.00', '1.00', '1.00', '1.00', '1.00', '1.00', '1.00', '1.00', '1.00', '1.00', '1.00', '1.00', '1.00', '1.00', '1.00', '1.00', '1.00', '1.00', '1.00', '1.00', '1.00', '1.00', '1.00', '1.00', '1.00', '1.00', '1.00', '1.00', '1.00', '1.00', '1.00', '1.00', '1.00', '1.00', '1.00', '1.00', '1.00', '1.00', '1.00', '1.00', '1.00', '1.00', '1.00', '1.00', '1.00', '1.00', '1.00', '1.00', '1.00', '1.00', '1.00', '1.00', '1.00', '1.00', '1.00', '1.00', '1.00', '1.00', '1.00', '1.00', '1.00', '1.00', '1.00', '1.00', '1.00', '1.00', '1.00', '1.00', '1.00', '1.00', '1.00', '1.00', '1.00', '1.00', '1.00', '1.00', '1.00', '1.00', '1.00', '1.00', '1.00', '1.00', '1.00', '1.00', '1.00', '1.00', '1.00', '1.00', '1.00', '1.00', '1.00', '1.00', '1.00', '1.00', '1.00', '1.00', '1.00', '1.00', '1.00', '1.00', '1.00', '1.00', '1.00', '1.00', '1.00', '1.00', '1.00', '1.00', '1.00', '1.00', '1.00', '1.00', '1.00', '1.00', '1.00', '1.00', '1.00', '1.00', '1.00', '1.00', '1.00', '1.00', '1.00', '1.00', '1.00', '1.00', '1.00', '1.00', '1.00', '1.00', '1.00', '1.00', '1.00', '1.00', '1.00', '1.00', '1.00', '1.00', '1.00', '1.00', '1.00', '1.00', '1.00', '1.00', '1.00', '1.00', '1.00', '1.00', '1.00', '1.00', '1.00', '1.00', '1.00', '1.00', '1.00', '1.00', '1.00', '1.00', '1.00', '1.00', '1.00', '1.00', '1.00', '1.00', '1.00', '1.00', '1.00', '1.00', '1.00', '1.00', '1.00', '1.00', '1.00', '1.00', '1.00', '1.00', '1.00', '1.00', '1.00', '1.00', '1.00', '1.00', '1.00', '1.00', '1.00', '1.00', '1.00', '1.00', '1.00', '1.00', '1.00', '1.00', '1.00', '1.00', '1.00', '1.00', '1.00', '1.00', '1.00', '1.00', '1.00', '1.00', '1.00', '1.00', '1.00', '1.00', '1.00', '1.00', '1.00', '1.00', '1.00', '1.00', '1.00', '1.00', '1.00', '1.00', '1.00', '1.00', '1.00', '1.00', '1.00', '1.00', '1.00', '1.00', '1.00', '1.00', '1.00', '1.00', '1.00', '1.00', '0.99', '0.99']\n",
    "    ['0.00', '0.01', '0.01', '0.02', '0.02', '0.02', '0.03', '0.03', '0.03', '0.04', '0.04', '0.05', '0.05', '0.05', '0.06', '0.06', '0.07', '0.07', '0.07', '0.08', '0.08', '0.08', '0.09', '0.09', '0.10', '0.10', '0.10', '0.11', '0.11', '0.11', '0.12', '0.12', '0.13', '0.13', '0.13', '0.14', '0.14', '0.15', '0.15', '0.15', '0.16', '0.16', '0.16', '0.17', '0.17', '0.18', '0.18', '0.18', '0.19', '0.19', '0.20', '0.20', '0.20', '0.21', '0.21', '0.21', '0.22', '0.22', '0.23', '0.23', '0.23', '0.24', '0.24', '0.25', '0.25', '0.25', '0.26', '0.26', '0.26', '0.27', '0.27', '0.28', '0.28', '0.28', '0.29', '0.29', '0.30', '0.30', '0.30', '0.31', '0.31', '0.31', '0.32', '0.32', '0.33', '0.33', '0.33', '0.34', '0.34', '0.34', '0.35', '0.35', '0.36', '0.36', '0.36', '0.37', '0.37', '0.38', '0.38', '0.38', '0.39', '0.39', '0.39', '0.40', '0.40', '0.41', '0.41', '0.41', '0.42', '0.42', '0.43', '0.43', '0.43', '0.44', '0.44', '0.44', '0.45', '0.45', '0.46', '0.46', '0.46', '0.47', '0.47', '0.48', '0.48', '0.48', '0.49', '0.49', '0.49', '0.50', '0.50', '0.51', '0.51', '0.51', '0.52', '0.52', '0.52', '0.53', '0.53', '0.54', '0.54', '0.54', '0.55', '0.55', '0.56', '0.56', '0.56', '0.57', '0.57', '0.57', '0.58', '0.58', '0.59', '0.59', '0.59', '0.60', '0.60', '0.61', '0.61', '0.61', '0.62', '0.62', '0.62', '0.63', '0.63', '0.64', '0.64', '0.64', '0.65', '0.65', '0.66', '0.66', '0.66', '0.67', '0.67', '0.67', '0.68', '0.68', '0.69', '0.69', '0.69', '0.70', '0.70', '0.70', '0.71', '0.71', '0.72', '0.72', '0.72', '0.73', '0.73', '0.74', '0.74', '0.74', '0.75', '0.75', '0.75', '0.76', '0.76', '0.77', '0.77', '0.77', '0.78', '0.78', '0.79', '0.79', '0.79', '0.80', '0.80', '0.80', '0.81', '0.81', '0.82', '0.82', '0.82', '0.83', '0.83', '0.84', '0.84', '0.84', '0.85', '0.85', '0.85', '0.86', '0.86', '0.87', '0.87', '0.87', '0.88', '0.88', '0.89', '0.89', '0.89', '0.90', '0.90', '0.90', '0.91', '0.91', '0.92', '0.92', '0.92', '0.93', '0.93', '0.93', '0.93', '0.93']\n",
    "]\n",
    "map_yolov5_sim = [\n",
    "    ['1.00', '1.00', '1.00', '1.00', '1.00', '1.00', '1.00', '1.00', '1.00', '1.00', '1.00', '1.00', '1.00', '1.00', '1.00', '1.00', '1.00', '1.00', '1.00', '1.00', '1.00', '1.00', '1.00', '1.00', '1.00', '1.00', '1.00', '1.00', '1.00', '1.00', '1.00', '1.00', '1.00', '1.00', '1.00', '1.00', '1.00', '1.00', '1.00', '1.00', '1.00', '1.00', '1.00', '1.00', '1.00', '1.00', '1.00', '1.00', '1.00', '1.00', '1.00', '1.00', '1.00', '1.00', '1.00', '1.00', '1.00', '1.00', '1.00', '1.00', '1.00', '1.00', '1.00', '1.00', '1.00', '1.00', '1.00', '1.00', '1.00', '1.00', '1.00', '1.00', '1.00', '1.00', '1.00', '1.00', '1.00', '1.00', '1.00', '1.00', '1.00', '1.00', '1.00', '1.00', '1.00', '1.00', '1.00', '1.00', '1.00', '1.00', '1.00', '1.00', '1.00', '1.00', '1.00', '1.00', '1.00', '1.00', '1.00', '1.00', '1.00', '1.00', '1.00', '1.00', '1.00', '1.00', '1.00', '1.00', '1.00', '1.00', '1.00', '1.00', '1.00', '1.00', '1.00', '1.00', '1.00', '1.00', '1.00', '1.00', '1.00', '1.00', '1.00', '1.00', '1.00', '1.00', '1.00', '1.00', '1.00', '1.00', '1.00', '1.00', '1.00', '1.00', '1.00', '1.00', '1.00', '1.00', '1.00', '1.00', '1.00', '1.00', '1.00', '1.00', '1.00', '1.00', '1.00', '1.00', '1.00', '1.00', '1.00', '1.00', '1.00', '1.00', '1.00', '1.00', '1.00', '1.00', '1.00', '1.00', '1.00', '1.00', '1.00', '1.00', '1.00', '1.00', '1.00', '1.00', '1.00', '1.00', '1.00', '1.00', '1.00', '1.00', '1.00', '1.00', '1.00', '1.00', '1.00', '1.00', '1.00', '1.00', '1.00', '1.00', '1.00', '1.00', '1.00', '1.00', '1.00', '1.00', '1.00', '1.00', '1.00', '1.00', '1.00', '1.00', '1.00', '1.00', '1.00', '1.00', '1.00', '1.00', '1.00', '1.00', '1.00', '1.00', '1.00', '1.00', '1.00', '1.00', '1.00', '1.00', '1.00', '1.00', '1.00', '1.00', '1.00', '1.00', '1.00', '1.00', '1.00', '1.00', '1.00', '1.00', '1.00', '1.00', '1.00', '1.00', '1.00', '1.00', '1.00', '1.00', '1.00', '1.00', '1.00', '1.00', '1.00', '1.00', '1.00', '1.00', '1.00', '1.00', '1.00', '1.00', '1.00', '1.00', '1.00', '1.00', '1.00', '1.00', '1.00', '1.00', '1.00', '1.00', '1.00', '1.00', '1.00', '1.00', '1.00', '1.00', '1.00', '1.00', '1.00', '1.00', '1.00', '1.00', '1.00', '1.00', '1.00', '1.00', '1.00', '1.00', '1.00', '1.00', '1.00', '1.00', '1.00', '1.00', '1.00', '1.00', '1.00', '1.00', '1.00', '1.00', '1.00', '1.00', '1.00', '1.00', '1.00', '1.00', '1.00', '1.00', '1.00', '1.00', '1.00', '1.00', '1.00', '1.00', '1.00', '1.00', '1.00', '1.00', '1.00', '1.00', '1.00', '1.00', '1.00', '1.00', '1.00', '1.00', '1.00', '1.00', '1.00', '1.00', '1.00', '1.00', '1.00', '1.00', '1.00', '1.00', '1.00', '1.00', '1.00', '1.00', '1.00', '1.00', '1.00', '1.00', '1.00', '1.00', '1.00', '1.00', '1.00', '1.00', '1.00', '1.00', '1.00', '1.00', '1.00', '1.00', '1.00', '1.00', '1.00', '1.00', '1.00', '1.00', '1.00', '1.00', '1.00', '1.00', '1.00', '1.00', '1.00', '1.00', '1.00', '1.00', '1.00', '1.00', '1.00', '1.00', '1.00', '1.00', '1.00', '1.00', '1.00', '1.00', '1.00', '1.00', '1.00', '1.00', '1.00', '1.00', '1.00', '1.00', '1.00', '1.00', '1.00', '1.00', '1.00', '1.00', '1.00', '1.00', '1.00', '1.00', '1.00', '1.00', '1.00', '1.00', '1.00', '1.00', '1.00', '1.00', '1.00', '1.00', '1.00', '1.00', '1.00', '1.00', '1.00', '1.00', '1.00', '1.00', '1.00', '1.00', '1.00', '1.00', '1.00', '1.00', '1.00', '1.00', '1.00', '1.00', '1.00', '1.00', '1.00', '1.00', '1.00', '1.00', '1.00', '1.00', '1.00', '1.00', '1.00', '1.00', '1.00', '1.00', '1.00', '1.00', '1.00', '1.00', '1.00', '1.00', '1.00', '1.00', '1.00']\n",
    "    ['0.00', '0.00', '0.01', '0.01', '0.01', '0.01', '0.01', '0.02', '0.02', '0.02', '0.02', '0.02', '0.03', '0.03', '0.03', '0.03', '0.04', '0.04', '0.04', '0.04', '0.04', '0.05', '0.05', '0.05', '0.05', '0.05', '0.06', '0.06', '0.06', '0.06', '0.06', '0.07', '0.07', '0.07', '0.07', '0.07', '0.08', '0.08', '0.08', '0.08', '0.09', '0.09', '0.09', '0.09', '0.09', '0.10', '0.10', '0.10', '0.10', '0.10', '0.11', '0.11', '0.11', '0.11', '0.11', '0.12', '0.12', '0.12', '0.12', '0.12', '0.13', '0.13', '0.13', '0.13', '0.14', '0.14', '0.14', '0.14', '0.14', '0.15', '0.15', '0.15', '0.15', '0.15', '0.16', '0.16', '0.16', '0.16', '0.16', '0.17', '0.17', '0.17', '0.17', '0.17', '0.18', '0.18', '0.18', '0.18', '0.19', '0.19', '0.19', '0.19', '0.19', '0.20', '0.20', '0.20', '0.20', '0.20', '0.21', '0.21', '0.21', '0.21', '0.21', '0.22', '0.22', '0.22', '0.22', '0.22', '0.23', '0.23', '0.23', '0.23', '0.23', '0.24', '0.24', '0.24', '0.24', '0.25', '0.25', '0.25', '0.25', '0.25', '0.26', '0.26', '0.26', '0.26', '0.26', '0.27', '0.27', '0.27', '0.27', '0.27', '0.28', '0.28', '0.28', '0.28', '0.28', '0.29', '0.29', '0.29', '0.29', '0.30', '0.30', '0.30', '0.30', '0.30', '0.31', '0.31', '0.31', '0.31', '0.31', '0.32', '0.32', '0.32', '0.32', '0.32', '0.33', '0.33', '0.33', '0.33', '0.33', '0.34', '0.34', '0.34', '0.34', '0.35', '0.35', '0.35', '0.35', '0.35', '0.36', '0.36', '0.36', '0.36', '0.36', '0.37', '0.37', '0.37', '0.37', '0.37', '0.38', '0.38', '0.38', '0.38', '0.38', '0.39', '0.39', '0.39', '0.39', '0.40', '0.40', '0.40', '0.40', '0.40', '0.41', '0.41', '0.41', '0.41', '0.41', '0.42', '0.42', '0.42', '0.42', '0.42', '0.43', '0.43', '0.43', '0.43', '0.43', '0.44', '0.44', '0.44', '0.44', '0.44', '0.45', '0.45', '0.45', '0.45', '0.46', '0.46', '0.46', '0.46', '0.46', '0.47', '0.47', '0.47', '0.47', '0.47', '0.48', '0.48', '0.48', '0.48', '0.48', '0.49', '0.49', '0.49', '0.49', '0.49', '0.50', '0.50', '0.50', '0.50', '0.51', '0.51', '0.51', '0.51', '0.51', '0.52', '0.52', '0.52', '0.52', '0.52', '0.53', '0.53', '0.53', '0.53', '0.53', '0.54', '0.54', '0.54', '0.54', '0.54', '0.55', '0.55', '0.55', '0.55', '0.56', '0.56', '0.56', '0.56', '0.56', '0.57', '0.57', '0.57', '0.57', '0.57', '0.58', '0.58', '0.58', '0.58', '0.58', '0.59', '0.59', '0.59', '0.59', '0.59', '0.60', '0.60', '0.60', '0.60', '0.60', '0.61', '0.61', '0.61', '0.61', '0.62', '0.62', '0.62', '0.62', '0.62', '0.63', '0.63', '0.63', '0.63', '0.63', '0.64', '0.64', '0.64', '0.64', '0.64', '0.65', '0.65', '0.65', '0.65', '0.65', '0.66', '0.66', '0.66', '0.66', '0.67', '0.67', '0.67', '0.67', '0.67', '0.68', '0.68', '0.68', '0.68', '0.68', '0.69', '0.69', '0.69', '0.69', '0.69', '0.70', '0.70', '0.70', '0.70', '0.70', '0.71', '0.71', '0.71', '0.71', '0.72', '0.72', '0.72', '0.72', '0.72', '0.73', '0.73', '0.73', '0.73', '0.73', '0.74', '0.74', '0.74', '0.74', '0.74', '0.75', '0.75', '0.75', '0.75', '0.75', '0.76', '0.76', '0.76', '0.76', '0.77', '0.77', '0.77', '0.77', '0.77', '0.78', '0.78', '0.78', '0.78', '0.78', '0.79', '0.79', '0.79', '0.79', '0.79', '0.80', '0.80', '0.80', '0.80', '0.80', '0.81', '0.81', '0.81', '0.81', '0.81', '0.82', '0.82', '0.82', '0.82', '0.83', '0.83', '0.83', '0.83', '0.83', '0.84', '0.84', '0.84', '0.84', '0.84', '0.85', '0.85', '0.85', '0.85', '0.85', '0.86', '0.86', '0.86', '0.86', '0.86', '0.87', '0.87', '0.87', '0.87', '0.88', '0.88', '0.88', '0.88', '0.88', '0.89', '0.89', '0.89', '0.89', '0.89', '0.90', '0.90', '0.90', '0.90', '0.90']\n",
    "]\n",
    "map_mobiledet_sim = [\n",
    "    ['1.00', '1.00', '1.00', '1.00', '1.00', '1.00', '1.00', '1.00', '1.00', '1.00', '1.00', '1.00', '1.00', '1.00', '1.00', '1.00', '1.00', '1.00', '1.00', '1.00', '1.00', '1.00', '1.00', '1.00', '1.00', '1.00', '1.00', '1.00', '1.00', '1.00', '1.00', '1.00', '1.00', '1.00', '1.00', '1.00', '1.00', '1.00', '1.00', '1.00', '1.00', '1.00', '1.00', '1.00', '1.00', '1.00', '1.00', '1.00', '1.00', '1.00', '1.00', '1.00', '0.98', '0.96', '0.95', '0.93', '0.93', '0.93', '0.93', '0.93', '0.93', '0.94', '0.94', '0.94', '0.94', '0.94', '0.94', '0.94', '0.94', '0.94', '0.93', '0.92', '0.90', '0.89', '0.88', '0.88', '0.88', '0.88', '0.89', '0.89', '0.89', '0.89', '0.89', '0.89', '0.89', '0.90', '0.90', '0.90', '0.90', '0.90', '0.90', '0.90', '0.90', '0.90', '0.91', '0.91', '0.91', '0.91', '0.91', '0.91', '0.91', '0.91', '0.91', '0.91', '0.91', '0.92', '0.92', '0.92', '0.92', '0.92', '0.92', '0.92', '0.92', '0.92', '0.91', '0.91', '0.91', '0.91', '0.91', '0.91', '0.91', '0.91', '0.91', '0.91', '0.91', '0.91', '0.91', '0.91', '0.91', '0.92', '0.92', '0.92', '0.92', '0.92', '0.92', '0.92', '0.92', '0.92', '0.92', '0.92', '0.92', '0.92', '0.92', '0.92', '0.92', '0.92', '0.93', '0.93', '0.93', '0.93', '0.93', '0.93', '0.93', '0.93', '0.93', '0.93', '0.93', '0.93', '0.93', '0.93', '0.93', '0.93', '0.93', '0.93', '0.93', '0.93', '0.93', '0.93', '0.93', '0.94', '0.94', '0.94', '0.94', '0.94', '0.94', '0.94', '0.94', '0.94', '0.94', '0.94', '0.94', '0.94', '0.94', '0.94', '0.94', '0.94', '0.94', '0.94', '0.94', '0.94', '0.94', '0.94', '0.94', '0.94', '0.94', '0.94', '0.94', '0.94', '0.94', '0.94', '0.94', '0.94', '0.94', '0.94', '0.94', '0.94', '0.94', '0.94', '0.94', '0.94', '0.94', '0.94', '0.94', '0.94', '0.94', '0.94', '0.94', '0.94', '0.94', '0.94', '0.94', '0.94', '0.94', '0.94', '0.94', '0.94', '0.94', '0.94', '0.94', '0.94', '0.94', '0.94', '0.94', '0.94', '0.94', '0.94', '0.95', '0.95', '0.95', '0.95', '0.95', '0.95', '0.95', '0.95', '0.95', '0.95', '0.95', '0.95', '0.95', '0.95', '0.95', '0.95', '0.95', '0.95', '0.95', '0.95', '0.95', '0.95', '0.95', '0.95', '0.95', '0.95', '0.95', '0.95', '0.95', '0.95', '0.95', '0.95', '0.95', '0.95', '0.95', '0.95', '0.95', '0.95', '0.95', '0.95', '0.95', '0.95', '0.95', '0.95', '0.95', '0.95', '0.95', '0.95', '0.95', '0.95', '0.95', '0.95', '0.96', '0.96', '0.96', '0.96', '0.96', '0.96', '0.96', '0.95', '0.95', '0.95', '0.94', '0.94', '0.94', '0.93', '0.93', '0.93', '0.92', '0.92', '0.92', '0.92', '0.91', '0.91', '0.91', '0.90', '0.90', '0.90', '0.90', '0.89', '0.89', '0.89', '0.88', '0.88', '0.88', '0.88', '0.88', '0.87']\n",
    "    ['0.00', '0.00', '0.01', '0.01', '0.01', '0.01', '0.01', '0.02', '0.02', '0.02', '0.02', '0.02', '0.03', '0.03', '0.03', '0.03', '0.04', '0.04', '0.04', '0.04', '0.04', '0.05', '0.05', '0.05', '0.05', '0.05', '0.06', '0.06', '0.06', '0.06', '0.06', '0.07', '0.07', '0.07', '0.07', '0.07', '0.08', '0.08', '0.08', '0.08', '0.09', '0.09', '0.09', '0.09', '0.09', '0.10', '0.10', '0.10', '0.10', '0.10', '0.11', '0.11', '0.11', '0.11', '0.11', '0.11', '0.11', '0.11', '0.11', '0.12', '0.12', '0.12', '0.12', '0.12', '0.13', '0.13', '0.13', '0.13', '0.14', '0.14', '0.14', '0.14', '0.14', '0.14', '0.14', '0.14', '0.14', '0.14', '0.15', '0.15', '0.15', '0.15', '0.15', '0.16', '0.16', '0.16', '0.16', '0.16', '0.17', '0.17', '0.17', '0.17', '0.17', '0.18', '0.18', '0.18', '0.18', '0.19', '0.19', '0.19', '0.19', '0.19', '0.20', '0.20', '0.20', '0.20', '0.20', '0.21', '0.21', '0.21', '0.21', '0.21', '0.22', '0.22', '0.22', '0.22', '0.22', '0.22', '0.22', '0.23', '0.23', '0.23', '0.23', '0.23', '0.24', '0.24', '0.24', '0.24', '0.25', '0.25', '0.25', '0.25', '0.25', '0.26', '0.26', '0.26', '0.26', '0.26', '0.27', '0.27', '0.27', '0.27', '0.27', '0.28', '0.28', '0.28', '0.28', '0.28', '0.29', '0.29', '0.29', '0.29', '0.30', '0.30', '0.30', '0.30', '0.30', '0.31', '0.31', '0.31', '0.31', '0.31', '0.32', '0.32', '0.32', '0.32', '0.32', '0.33', '0.33', '0.33', '0.33', '0.33', '0.34', '0.34', '0.34', '0.34', '0.35', '0.35', '0.35', '0.35', '0.35', '0.36', '0.36', '0.36', '0.36', '0.36', '0.37', '0.37', '0.37', '0.37', '0.37', '0.38', '0.38', '0.38', '0.38', '0.38', '0.39', '0.39', '0.39', '0.39', '0.39', '0.40', '0.40', '0.40', '0.40', '0.40', '0.40', '0.41', '0.41', '0.41', '0.41', '0.41', '0.42', '0.42', '0.42', '0.42', '0.42', '0.43', '0.43', '0.43', '0.43', '0.43', '0.44', '0.44', '0.44', '0.44', '0.44', '0.45', '0.45', '0.45', '0.45', '0.46', '0.46', '0.46', '0.46', '0.46', '0.47', '0.47', '0.47', '0.47', '0.47', '0.48', '0.48', '0.48', '0.48', '0.48', '0.49', '0.49', '0.49', '0.49', '0.49', '0.50', '0.50', '0.50', '0.50', '0.51', '0.51', '0.51', '0.51', '0.51', '0.52', '0.52', '0.52', '0.52', '0.52', '0.53', '0.53', '0.53', '0.53', '0.53', '0.54', '0.54', '0.54', '0.54', '0.54', '0.55', '0.55', '0.55', '0.55', '0.56', '0.56', '0.56', '0.56', '0.56', '0.57', '0.57', '0.57', '0.57', '0.57', '0.58', '0.58', '0.58', '0.58', '0.58', '0.59', '0.59', '0.59', '0.59', '0.59', '0.59', '0.59', '0.59', '0.59', '0.59', '0.59', '0.59', '0.59', '0.59', '0.59', '0.59', '0.59', '0.59', '0.59', '0.59', '0.59', '0.59', '0.59', '0.59', '0.59', '0.59', '0.59', '0.59', '0.59', '0.59']\n",
    "]\n",
    "map_mobiledet_real = [\n",
    "    ['1.00', '1.00', '1.00', '1.00', '1.00', '1.00', '1.00', '1.00', '1.00', '1.00', '1.00', '1.00', '1.00', '1.00', '1.00', '1.00', '1.00', '1.00', '1.00', '1.00', '1.00', '1.00', '1.00', '1.00', '1.00', '1.00', '1.00', '1.00', '1.00', '1.00', '1.00', '1.00', '1.00', '1.00', '1.00', '1.00', '1.00', '1.00', '1.00', '1.00', '1.00', '1.00', '1.00', '1.00', '1.00', '1.00', '1.00', '1.00', '1.00', '1.00', '1.00', '1.00', '1.00', '1.00', '1.00', '1.00', '1.00', '1.00', '1.00', '1.00', '1.00', '1.00', '1.00', '1.00', '1.00', '1.00', '1.00', '1.00', '1.00', '1.00', '1.00', '1.00', '1.00', '1.00', '1.00', '1.00', '1.00', '1.00', '1.00', '1.00', '1.00', '1.00', '1.00', '1.00', '1.00', '1.00', '1.00', '1.00', '1.00', '1.00', '0.99', '0.99', '0.99', '0.99', '0.98', '0.98', '0.98', '0.98', '0.97', '0.97', '0.97', '0.96', '0.95', '0.94', '0.93', '0.92', '0.92', '0.91', '0.90', '0.89', '0.88', '0.88', '0.87', '0.86', '0.85', '0.84', '0.84', '0.83', '0.82', '0.82', '0.81', '0.80', '0.80', '0.79', '0.78', '0.78', '0.77', '0.77', '0.76', '0.75', '0.75', '0.74', '0.74', '0.73', '0.73', '0.73', '0.72', '0.72', '0.71', '0.71', '0.70', '0.70', '0.69', '0.69', '0.68', '0.68', '0.67', '0.67', '0.66', '0.66', '0.66', '0.65', '0.65', '0.64']\n",
    "    ['0.00', '0.01', '0.01', '0.02', '0.02', '0.02', '0.03', '0.03', '0.03', '0.04', '0.04', '0.05', '0.05', '0.05', '0.06', '0.06', '0.07', '0.07', '0.07', '0.08', '0.08', '0.08', '0.09', '0.09', '0.10', '0.10', '0.10', '0.11', '0.11', '0.11', '0.12', '0.12', '0.13', '0.13', '0.13', '0.14', '0.14', '0.15', '0.15', '0.15', '0.16', '0.16', '0.16', '0.17', '0.17', '0.18', '0.18', '0.18', '0.19', '0.19', '0.20', '0.20', '0.20', '0.21', '0.21', '0.21', '0.22', '0.22', '0.23', '0.23', '0.23', '0.24', '0.24', '0.25', '0.25', '0.25', '0.26', '0.26', '0.26', '0.27', '0.27', '0.28', '0.28', '0.28', '0.29', '0.29', '0.30', '0.30', '0.30', '0.31', '0.31', '0.31', '0.32', '0.32', '0.33', '0.33', '0.33', '0.34', '0.34', '0.34', '0.34', '0.35', '0.35', '0.36', '0.36', '0.36', '0.36', '0.37', '0.37', '0.37', '0.38', '0.38', '0.38', '0.38', '0.38', '0.38', '0.38', '0.38', '0.38', '0.38', '0.38', '0.38', '0.38', '0.38', '0.38', '0.38', '0.38', '0.38', '0.38', '0.38', '0.38', '0.38', '0.38', '0.38', '0.38', '0.38', '0.38', '0.38', '0.38', '0.38', '0.38', '0.38', '0.38', '0.38', '0.38', '0.38', '0.38', '0.38', '0.38', '0.38', '0.38', '0.38', '0.38', '0.38', '0.38', '0.38', '0.38', '0.38', '0.38', '0.38', '0.38', '0.38', '0.38', '0.38']\n",
    "]"
   ]
  }
 ],
 "metadata": {
  "kernelspec": {
   "display_name": "Python 3",
   "language": "python",
   "name": "python3"
  },
  "language_info": {
   "codemirror_mode": {
    "name": "ipython",
    "version": 3
   },
   "file_extension": ".py",
   "mimetype": "text/x-python",
   "name": "python",
   "nbconvert_exporter": "python",
   "pygments_lexer": "ipython3",
   "version": "3.8.3"
  }
 },
 "nbformat": 4,
 "nbformat_minor": 4
}
