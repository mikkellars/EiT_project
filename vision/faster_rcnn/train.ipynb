{
 "metadata": {
  "language_info": {
   "codemirror_mode": {
    "name": "ipython",
    "version": 3
   },
   "file_extension": ".py",
   "mimetype": "text/x-python",
   "name": "python",
   "nbconvert_exporter": "python",
   "pygments_lexer": "ipython3",
   "version": 3
  },
  "orig_nbformat": 2
 },
 "nbformat": 4,
 "nbformat_minor": 2,
 "cells": [
  {
   "source": [
    "# Notebook for training tensorflow object detector API"
   ],
   "cell_type": "markdown",
   "metadata": {}
  },
  {
   "source": [
    "## Downloads SSDLite Mobiledet model"
   ],
   "cell_type": "markdown",
   "metadata": {}
  },
  {
   "cell_type": "code",
   "execution_count": 3,
   "metadata": {},
   "outputs": [
    {
     "output_type": "stream",
     "name": "stdout",
     "text": [
      "--2020-11-10 19:02:05--  http://download.tensorflow.org/models/object_detection/ssdlite_mobiledet_edgetpu_320x320_coco_2020_05_19.tar.gz\n",
      "Resolving download.tensorflow.org (download.tensorflow.org)... 216.58.207.208, 2a00:1450:400f:80d::2010\n",
      "Connecting to download.tensorflow.org (download.tensorflow.org)|216.58.207.208|:80... connected.\n",
      "HTTP request sent, awaiting response... 200 OK\n",
      "Length: 156413934 (149M) [application/x-tar]\n",
      "Saving to: ‘pretrained_models/ssdlite_mobiledet_edgetpu_320x320_coco_2020_05_19.tar.gz’\n",
      "\n",
      "ssdlite_mobiledet_e 100%[===================>] 149.17M  3.02MB/s    in 47s     \n",
      "\n",
      "2020-11-10 19:02:53 (3.18 MB/s) - ‘pretrained_models/ssdlite_mobiledet_edgetpu_320x320_coco_2020_05_19.tar.gz’ saved [156413934/156413934]\n",
      "\n",
      "ssdlite_mobiledet_edgetpu_320x320_coco_2020_05_19/\n",
      "ssdlite_mobiledet_edgetpu_320x320_coco_2020_05_19/fp32/\n",
      "ssdlite_mobiledet_edgetpu_320x320_coco_2020_05_19/fp32/model.ckpt-400000.data-00000-of-00001\n",
      "ssdlite_mobiledet_edgetpu_320x320_coco_2020_05_19/fp32/model.ckpt-400000.index\n",
      "ssdlite_mobiledet_edgetpu_320x320_coco_2020_05_19/fp32/model.ckpt-400000.meta\n",
      "ssdlite_mobiledet_edgetpu_320x320_coco_2020_05_19/fp32/tflite_graph.pbtxt\n",
      "ssdlite_mobiledet_edgetpu_320x320_coco_2020_05_19/fp32/tflite_graph.pb\n",
      "ssdlite_mobiledet_edgetpu_320x320_coco_2020_05_19/fp32/pipeline.config\n",
      "ssdlite_mobiledet_edgetpu_320x320_coco_2020_05_19/fp32/model.tflite\n",
      "ssdlite_mobiledet_edgetpu_320x320_coco_2020_05_19/uint8/\n",
      "ssdlite_mobiledet_edgetpu_320x320_coco_2020_05_19/uint8/model.ckpt-400000.data-00000-of-00001\n",
      "ssdlite_mobiledet_edgetpu_320x320_coco_2020_05_19/uint8/model.ckpt-400000.index\n",
      "ssdlite_mobiledet_edgetpu_320x320_coco_2020_05_19/uint8/model.ckpt-400000.meta\n",
      "ssdlite_mobiledet_edgetpu_320x320_coco_2020_05_19/uint8/tflite_graph.pbtxt\n",
      "ssdlite_mobiledet_edgetpu_320x320_coco_2020_05_19/uint8/tflite_graph.pb\n",
      "ssdlite_mobiledet_edgetpu_320x320_coco_2020_05_19/uint8/pipeline.config\n",
      "ssdlite_mobiledet_edgetpu_320x320_coco_2020_05_19/uint8/model.tflite\n"
     ]
    }
   ],
   "source": [
    "!wget http://download.tensorflow.org/models/object_detection/ssdlite_mobiledet_edgetpu_320x320_coco_2020_05_19.tar.gz -P pretrained_models/\n",
    "\n",
    "!tar xvf pretrained_models/ssdlite_mobiledet_edgetpu_320x320_coco_2020_05_19.tar.gz"
   ]
  },
  {
   "source": [
    "## Dataset"
   ],
   "cell_type": "markdown",
   "metadata": {}
  },
  {
   "cell_type": "code",
   "execution_count": null,
   "metadata": {},
   "outputs": [],
   "source": []
  }
 ]
}