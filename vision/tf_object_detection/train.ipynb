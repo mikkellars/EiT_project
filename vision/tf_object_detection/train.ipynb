{
 "cells": [
  {
   "cell_type": "markdown",
   "metadata": {},
   "source": [
    "# Notebook for training tensorflow object detector API"
   ]
  },
  {
   "cell_type": "markdown",
   "metadata": {},
   "source": [
    "## Downloads SSDLite Mobiledet model"
   ]
  },
  {
   "cell_type": "code",
   "execution_count": 2,
   "metadata": {},
   "outputs": [],
   "source": [
    "!wget http://download.tensorflow.org/models/object_detection/ssdlite_mobiledet_edgetpu_320x320_coco_2020_05_19.tar.gz -P pretrained_models/\n",
    "!tar xf pretrained_models/ssdlite_mobiledet_edgetpu_320x320_coco_2020_05_19.tar.gz --directory pretrained_models/"
   ]
  },
  {
   "cell_type": "markdown",
   "metadata": {},
   "source": [
    "## Dataset"
   ]
  },
  {
   "cell_type": "code",
   "execution_count": 1,
   "metadata": {},
   "outputs": [],
   "source": [
    "dataset_path = 'vision/data/'"
   ]
  },
  {
   "cell_type": "markdown",
   "metadata": {},
   "source": [
    "## Edit pipeline config to configure the training"
   ]
  },
  {
   "cell_type": "code",
   "execution_count": 2,
   "metadata": {},
   "outputs": [
    {
     "name": "stdout",
     "output_type": "stream",
     "text": [
      "Tensorflow version 1.15.0\n",
      "NVIDIA-SMI has failed because it couldn't communicate with the NVIDIA driver. Make sure that the latest NVIDIA driver is installed and running.\n",
      "\n"
     ]
    }
   ],
   "source": [
    "import tensorflow as tf\n",
    "print(\"Tensorflow version\", tf.__version__)\n",
    "from google.protobuf import text_format\n",
    "from object_detection.protos import pipeline_pb2\n",
    "\n",
    "gpu_info = !nvidia-smi\n",
    "gpu_info = '\\n'.join(gpu_info)\n",
    "print(gpu_info)"
   ]
  },
  {
   "cell_type": "code",
   "execution_count": 5,
   "metadata": {},
   "outputs": [],
   "source": [
    "pipeline = pipeline_pb2.TrainEvalPipelineConfig()\n",
    "config_path = '/home/mikkel/Documents/experts_in_teams_proj/vision/tf_object_detection/pretrained_models/ssdlite_mobiledet_edgetpu_320x320_coco_2020_05_19/ssdlite_mobiledet_edgetpu_320x320_coco_sync_4x4.config'\n",
    "# Read config file and converts it to editable pipeline\n",
    "with tf.gfile.GFile(config_path, \"r\") as f:\n",
    "    proto_str = f.read()\n",
    "    text_format.Merge(proto_str, pipeline)"
   ]
  },
  {
   "cell_type": "code",
   "execution_count": 7,
   "metadata": {},
   "outputs": [
    {
     "name": "stdout",
     "output_type": "stream",
     "text": [
      "cat: config_path: No such file or directory\r\n"
     ]
    }
   ],
   "source": [
    "\n",
    "pipeline.train_input_reader.tf_record_input_reader.input_path[:] = [dataset_path + 'train/Hole.tfrecord']\n",
    "pipeline.train_input_reader.label_map_path = dataset_path + 'train/Hole_label_map.pbtxt'\n",
    "pipeline.eval_input_reader[0].tf_record_input_reader.input_path[:] = [dataset_path + 'valid/Hole.tfrecord']\n",
    "pipeline.eval_input_reader[0].label_map_path = dataset_path + 'valid/Hole_label_map.pbtxt'\n",
    "pipeline.train_config.fine_tune_checkpoint = 'pretrained_model/ssdlite_mobiledet_edgetpu_320x320_coco_2020_05_19/fp32/model.ckpt'\n",
    "pipeline.train_config.batch_size = 32\n",
    "pipeline.train_config.num_steps = 10000\n",
    "pipeline.model.ssd.num_classes = 1\n",
    "# Enable ssdlite, this should already be enabled in the config we downloaded, but this is just to make sure.\n",
    "pipeline.model.ssd.box_predictor.convolutional_box_predictor.kernel_size = 3\n",
    "pipeline.model.ssd.box_predictor.convolutional_box_predictor.use_depthwise = True\n",
    "pipeline.model.ssd.feature_extractor.use_depthwise = True\n",
    "# Quantization Aware Traning IMPORTANT!!!!\n",
    "pipeline.graph_rewriter.quantization.delay = 0\n",
    "pipeline.graph_rewriter.quantization.weight_bits = 8\n",
    "pipeline.graph_rewriter.quantization.activation_bits = 8\n",
    "\n",
    "config_text = text_format.MessageToString(pipeline) # Back to text to write\n",
    "with tf.gfile.Open(config_path, \"wb\") as f:\n",
    "    f.write(config_text)\n",
    "\n",
    "# This is out config after modifying\n",
    "!cat config_path"
   ]
  },
  {
   "cell_type": "code",
   "execution_count": null,
   "metadata": {},
   "outputs": [],
   "source": []
  }
 ],
 "metadata": {
  "kernelspec": {
   "display_name": "Python 3.6.12 64-bit ('tf1_obj': conda)",
   "language": "python",
   "name": "python361264bittf1objcondae073ef1d817349689dae67ac792beeca"
  },
  "language_info": {
   "codemirror_mode": {
    "name": "ipython",
    "version": 3
   },
   "file_extension": ".py",
   "mimetype": "text/x-python",
   "name": "python",
   "nbconvert_exporter": "python",
   "pygments_lexer": "ipython3",
   "version": "3.6.12"
  }
 },
 "nbformat": 4,
 "nbformat_minor": 2
}
