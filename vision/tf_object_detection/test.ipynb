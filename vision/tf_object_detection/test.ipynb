{
 "cells": [
  {
   "cell_type": "markdown",
   "metadata": {},
   "source": [
    "# Test of SSD Lite MobileDet"
   ]
  },
  {
   "cell_type": "markdown",
   "metadata": {},
   "source": [
    "## Setup"
   ]
  },
  {
   "cell_type": "code",
   "execution_count": 8,
   "metadata": {},
   "outputs": [],
   "source": [
    "import os\n",
    "import time\n",
    "import numpy as np\n",
    "from tflite_runtime.interpreter import Interpreter\n",
    "from tflite_runtime.interpreter import load_delegate\n",
    "from PIL import Image, ImageDraw, ImageFont\n",
    "%matplotlib inline\n",
    "\n",
    "model_path = '/home/mathias/Documents/experts_in_teams_proj/vision/tf_object_detection/trained_models/ssdlite_mobiledet_fence_hole.tflite'\n",
    "\n",
    "def xywh2xyxy(x:np.array):\n",
    "    # Convert nx4 boxes from [x, y, w, h] to [x1, y1, x2, y2] where xy1=top-left, xy2=bottom-right\n",
    "    # y = x.clone() if isinstance(x, torch.Tensor) else np.copy(x)\n",
    "    y = np.copy(x)\n",
    "    y[0] = x[0] - x[2] / 2  # top left x\n",
    "    y[1] = x[1] - x[3] / 2  # top left y\n",
    "    y[2] = x[0] + x[2] / 2  # bottom right x\n",
    "    y[3] = x[1] + x[3] / 2  # bottom right y\n",
    "    return y"
   ]
  },
  {
   "cell_type": "markdown",
   "metadata": {},
   "source": [
    "## Testing"
   ]
  },
  {
   "cell_type": "markdown",
   "metadata": {},
   "source": [
    "### Simulation"
   ]
  },
  {
   "cell_type": "code",
   "execution_count": 27,
   "metadata": {},
   "outputs": [],
   "source": [
    "%rm -rf ../utils/map/input/ground-truth\n",
    "%rm -rf ../utils/map/input/images-optional\n",
    "%rm -rf ../utils/map/input/detection-results\n",
    "%rm -rf ../utils/map/output\n",
    "\n",
    "%mkdir ../utils/map/input/ground-truth\n",
    "%mkdir ../utils/map/input/images-optional\n",
    "%mkdir ../utils/map/input/detection-results"
   ]
  },
  {
   "cell_type": "code",
   "execution_count": 28,
   "metadata": {
    "scrolled": true
   },
   "outputs": [
    {
     "name": "stdout",
     "output_type": "stream",
     "text": [
      "<tflite_runtime.interpreter.Interpreter object at 0x7f296d1fa510>\n",
      "Took average pr images: 0.11851510763168335 s\n"
     ]
    }
   ],
   "source": [
    "# Creates tflite interpreter\n",
    "interpreter = Interpreter(model_path) \n",
    "print(interpreter)\n",
    "interpreter.allocate_tensors()\n",
    "interpreter.invoke() # warmup\n",
    "input_details = interpreter.get_input_details()\n",
    "output_details = interpreter.get_output_details()\n",
    "width = input_details[0]['shape'][2]\n",
    "height = input_details[0]['shape'][1]\n",
    "\n",
    "def run_inference(interpreter, image):\n",
    "    interpreter.set_tensor(input_details[0]['index'], image)\n",
    "    interpreter.invoke()\n",
    "    boxes = interpreter.get_tensor(output_details[0]['index'])[0]\n",
    "    classes = interpreter.get_tensor(output_details[1]['index'])[0]\n",
    "    scores = interpreter.get_tensor(output_details[2]['index'])[0]\n",
    "    # num_detections = interpreter.get_tensor(output_details[3]['index'])[0]\n",
    "    return boxes, classes, scores\n",
    "\n",
    "times = list()\n",
    "\n",
    "test_path = '/home/mathias/Documents/experts_in_teams_proj/vision/yolov5/data/fence_test_sim/test/images'\n",
    "test_image_paths = sorted([f for f in os.listdir(test_path)]) \n",
    "for idx, image_path in enumerate(test_image_paths):\n",
    "    image = Image.open(os.path.join(test_path, image_path))\n",
    "    image_width, image_height = image.size\n",
    "    draw = ImageDraw.Draw(image)\n",
    "    resized_image = image.resize((width, height))\n",
    "    np_image = np.asarray(resized_image)\n",
    "    input_tensor = np.expand_dims(np_image, axis=0)\n",
    "    \n",
    "    # Run inference\n",
    "    model_start = time.time()\n",
    "    boxes, classes, scores = run_inference(interpreter, input_tensor)\n",
    "    model_end = time.time() - model_start\n",
    "    times.append(model_end)\n",
    "    \n",
    "    # Draw results on image\n",
    "    colors = {0:(255, 0, 0)}\n",
    "    labels = {0:'Hole'}\n",
    "\n",
    "    \n",
    "    with open(f'../utils/map/input/detection-results/{idx:04d}.txt', 'w') as txt_file:\n",
    "    \n",
    "        for i in range(len(boxes)):\n",
    "            if scores[i] > 0.5:\n",
    "                ymin = max(0, boxes[i][0]) # int(max(1, (boxes[i][0] * image_height)))\n",
    "                xmin = max(0, boxes[i][1]) # int(max(1, (boxes[i][1] * image_width)))\n",
    "                ymax = min(1.0, boxes[i][2]) # int(min(image_height, (boxes[i][2] * image_height)))\n",
    "                xmax = min(1.0, boxes[i][3]) # int(min(image_width, (boxes[i][3] * image_width)))\n",
    "                \n",
    "                print(f'hole {scores[i]} {xmin} {ymin} {xmax} {ymax}', file=txt_file)\n",
    "            \n",
    "                # draw.rectangle((xmin, ymin, xmax, ymax), width=12, outline=colors[int(classes[i])])\n",
    "                # draw.rectangle((xmin, ymin, xmax, ymin-10), fill=colors[int(classes[i])])\n",
    "                # text = labels[int(classes[i])] + ' ' + str(scores[i]*100) + '%'\n",
    "                # draw.text((xmin+2, ymin-10), text, fill=(0,0,0), width=2, font=ImageFont.truetype(\"/usr/share/fonts/truetype/dejavu/DejaVuSans.ttf\", 28))\n",
    "    \n",
    "    # display(image)\n",
    "    # image.save(f'detection-results/{idx:04d}.png')\n",
    "    \n",
    "times = np.array(times)\n",
    "print(f'Took average pr images: {np.mean(times)} s')"
   ]
  },
  {
   "cell_type": "code",
   "execution_count": 29,
   "metadata": {},
   "outputs": [],
   "source": [
    "# Load labels into ground-truth folder\n",
    "gt = '/home/mathias/Documents/experts_in_teams_proj/vision/yolov5/data/fence_test_sim/test/labels'\n",
    "gt_files = sorted([f for f in os.listdir(gt)])\n",
    "for i, f in enumerate(gt_files):\n",
    "    with open(os.path.join(gt, f), 'r') as txt_file:\n",
    "        lines = txt_file.readlines()\n",
    "    with open(f'/home/mathias/Documents/experts_in_teams_proj/vision/utils/map/input/ground-truth/{i:04d}.txt', 'w') as txt_file:\n",
    "        if len(lines) == 0:\n",
    "                # print('', file=txt_file)\n",
    "                continue\n",
    "        else:\n",
    "            for line in lines:\n",
    "                line = line.replace('\\n', '').split(' ')\n",
    "                bbox = xywh2xyxy(np.array([\n",
    "                    float(line[1]), float(line[2]), float(line[3]), float(line[4])\n",
    "                ]))\n",
    "                print(f'hole {bbox[0]} {bbox[1]} {bbox[2]} {bbox[3]}', file=txt_file)"
   ]
  },
  {
   "cell_type": "code",
   "execution_count": 30,
   "metadata": {},
   "outputs": [
    {
     "name": "stdout",
     "output_type": "stream",
     "text": [
      "total ground-truth files: 600\r\n",
      "total detection-results files: 600\r\n",
      "\r\n",
      "No backup required for /home/mathias/Documents/experts_in_teams_proj/vision/utils/map/input/ground-truth\r\n",
      "No backup required for /home/mathias/Documents/experts_in_teams_proj/vision/utils/map/input/detection-results\r\n",
      "total intersected files: 600\r\n",
      "Intersection completed!\r\n"
     ]
    }
   ],
   "source": [
    "!python ../utils/map/scripts/extra/intersect-gt-and-dr.py"
   ]
  },
  {
   "cell_type": "code",
   "execution_count": 31,
   "metadata": {},
   "outputs": [
    {
     "name": "stdout",
     "output_type": "stream",
     "text": [
      "56.70% = hole AP \n",
      "mAP = 56.70%\n",
      "Figure(640x480)\n"
     ]
    }
   ],
   "source": [
    "!python ../utils/map/main.py"
   ]
  },
  {
   "cell_type": "code",
   "execution_count": 32,
   "metadata": {},
   "outputs": [],
   "source": [
    "%rm -rf ../assets/map_mobiledet_sim \n",
    "%mkdir ../assets/map_mobiledet_sim\n",
    "%cp ../utils/map/output/output.txt ../assets/map_mobiledet_sim/output.txt\n",
    "%cp ../utils/map/output/detection-results-info.png ../assets/map_mobiledet_sim/detection-results-info.png\n",
    "%cp ../utils/map/output/ground-truth-info.png ../assets/map_mobiledet_sim/ground-truth-info.png\n",
    "%cp ../utils/map/output/lamr.png ../assets/map_mobiledet_sim/lamr.png\n",
    "%cp ../utils/map/output/mAP.png ../assets/map_mobiledet_sim/mAP.png\n",
    "%cp ../utils/map/output/classes/hole.png ../assets/map_mobiledet_sim/hole.png"
   ]
  },
  {
   "cell_type": "markdown",
   "metadata": {},
   "source": [
    "Results:\n",
    "\n",
    "| mAP@0.5 |\n",
    "|:-------:|\n",
    "| ![](../assets/map_mobiledet_sim/mAP.png) |\n",
    "\n",
    "| Log-average miss rate |\n",
    "|:---------------------:|\n",
    "| ![](../assets/map_mobiledet_sim/lamr.png) |\n",
    "\n",
    "| Average precision |\n",
    "|:-----------------:|\n",
    "| ![](../assets/map_mobiledet_sim/hole.png) |\n",
    "\n",
    "| Detection results info |\n",
    "|:----------------------:|\n",
    "| ![](../assets/map_mobiledet_sim/detection-results-info.png) |\n",
    "\n",
    "| Ground truth info |\n",
    "|:-----------------:|\n",
    "| ![](../assets/map_mobiledet_sim/ground-truth-info.png) |\n"
   ]
  },
  {
   "cell_type": "markdown",
   "metadata": {},
   "source": [
    "### Real world"
   ]
  },
  {
   "cell_type": "code",
   "execution_count": 33,
   "metadata": {},
   "outputs": [],
   "source": [
    "%rm -rf ../utils/map/input/ground-truth\n",
    "%rm -rf ../utils/map/input/images-optional\n",
    "%rm -rf ../utils/map/input/detection-results\n",
    "%rm -rf ../utils/map/output\n",
    "\n",
    "%mkdir ../utils/map/input/ground-truth\n",
    "%mkdir ../utils/map/input/images-optional\n",
    "%mkdir ../utils/map/input/detection-results"
   ]
  },
  {
   "cell_type": "code",
   "execution_count": 34,
   "metadata": {},
   "outputs": [
    {
     "name": "stdout",
     "output_type": "stream",
     "text": [
      "<tflite_runtime.interpreter.Interpreter object at 0x7f293683a110>\n",
      "Took average pr images: 0.11574494558880587 s\n"
     ]
    }
   ],
   "source": [
    "# Creates tflite interpreter\n",
    "interpreter = Interpreter(model_path) \n",
    "print(interpreter)\n",
    "interpreter.allocate_tensors()\n",
    "interpreter.invoke() # warmup\n",
    "input_details = interpreter.get_input_details()\n",
    "output_details = interpreter.get_output_details()\n",
    "width = input_details[0]['shape'][2]\n",
    "height = input_details[0]['shape'][1]\n",
    "\n",
    "def run_inference(interpreter, image):\n",
    "    interpreter.set_tensor(input_details[0]['index'], image)\n",
    "    interpreter.invoke()\n",
    "    boxes = interpreter.get_tensor(output_details[0]['index'])[0]\n",
    "    classes = interpreter.get_tensor(output_details[1]['index'])[0]\n",
    "    scores = interpreter.get_tensor(output_details[2]['index'])[0]\n",
    "    # num_detections = interpreter.get_tensor(output_details[3]['index'])[0]\n",
    "    return boxes, classes, scores\n",
    "\n",
    "times = list()\n",
    "\n",
    "test_path = '/home/mathias/Documents/experts_in_teams_proj/vision/yolov5/data/fence_test_real/test/images'\n",
    "test_image_paths = sorted([f for f in os.listdir(test_path)]) \n",
    "for idx, image_path in enumerate(test_image_paths):\n",
    "    image = Image.open(os.path.join(test_path, image_path))\n",
    "    image_width, image_height = image.size\n",
    "    draw = ImageDraw.Draw(image)\n",
    "    resized_image = image.resize((width, height))\n",
    "    np_image = np.asarray(resized_image)\n",
    "    input_tensor = np.expand_dims(np_image, axis=0)\n",
    "    \n",
    "    # Run inference\n",
    "    model_start = time.time()\n",
    "    boxes, classes, scores = run_inference(interpreter, input_tensor)\n",
    "    model_end = time.time() - model_start\n",
    "    times.append(model_end)\n",
    "    \n",
    "    # Draw results on image\n",
    "    colors = {0:(255, 0, 0)}\n",
    "    labels = {0:'Hole'}\n",
    "\n",
    "    \n",
    "    with open(f'../utils/map/input/detection-results/{idx:04d}.txt', 'w') as txt_file:\n",
    "    \n",
    "        for i in range(len(boxes)):\n",
    "            if scores[i] > 0.5:\n",
    "                ymin = max(0, boxes[i][0]) # int(max(1, (boxes[i][0] * image_height)))\n",
    "                xmin = max(0, boxes[i][1]) # int(max(1, (boxes[i][1] * image_width)))\n",
    "                ymax = min(1.0, boxes[i][2]) # int(min(image_height, (boxes[i][2] * image_height)))\n",
    "                xmax = min(1.0, boxes[i][3]) # int(min(image_width, (boxes[i][3] * image_width)))\n",
    "                \n",
    "                print(f'hole {scores[i]} {xmin} {ymin} {xmax} {ymax}', file=txt_file)\n",
    "            \n",
    "                # draw.rectangle((xmin, ymin, xmax, ymax), width=12, outline=colors[int(classes[i])])\n",
    "                # draw.rectangle((xmin, ymin, xmax, ymin-10), fill=colors[int(classes[i])])\n",
    "                # text = labels[int(classes[i])] + ' ' + str(scores[i]*100) + '%'\n",
    "                # draw.text((xmin+2, ymin-10), text, fill=(0,0,0), width=2, font=ImageFont.truetype(\"/usr/share/fonts/truetype/dejavu/DejaVuSans.ttf\", 28))\n",
    "    \n",
    "    # display(image)\n",
    "    # image.save(f'detection-results/{idx:04d}.png')\n",
    "    \n",
    "times = np.array(times)\n",
    "print(f'Took average pr images: {np.mean(times)} s')"
   ]
  },
  {
   "cell_type": "code",
   "execution_count": 35,
   "metadata": {},
   "outputs": [],
   "source": [
    "# Load labels into ground-truth folder\n",
    "gt = '/home/mathias/Documents/experts_in_teams_proj/vision/yolov5/data/fence_test_real/test/labels'\n",
    "gt_files = sorted([f for f in os.listdir(gt)])\n",
    "for i, f in enumerate(gt_files):\n",
    "    with open(os.path.join(gt, f), 'r') as txt_file:\n",
    "        lines = txt_file.readlines()\n",
    "    with open(f'/home/mathias/Documents/experts_in_teams_proj/vision/utils/map/input/ground-truth/{i:04d}.txt', 'w') as txt_file:\n",
    "        if len(lines) == 0:\n",
    "                # print('', file=txt_file)\n",
    "                continue\n",
    "        else:\n",
    "            for line in lines:\n",
    "                line = line.replace('\\n', '').split(' ')\n",
    "                bbox = xywh2xyxy(np.array([\n",
    "                    float(line[1]), float(line[2]), float(line[3]), float(line[4])\n",
    "                ]))\n",
    "                print(f'hole {bbox[0]} {bbox[1]} {bbox[2]} {bbox[3]}', file=txt_file)"
   ]
  },
  {
   "cell_type": "code",
   "execution_count": 36,
   "metadata": {},
   "outputs": [
    {
     "name": "stdout",
     "output_type": "stream",
     "text": [
      "total ground-truth files: 213\r\n",
      "total detection-results files: 213\r\n",
      "\r\n",
      "No backup required for /home/mathias/Documents/experts_in_teams_proj/vision/utils/map/input/ground-truth\r\n",
      "No backup required for /home/mathias/Documents/experts_in_teams_proj/vision/utils/map/input/detection-results\r\n",
      "total intersected files: 213\r\n",
      "Intersection completed!\r\n"
     ]
    }
   ],
   "source": [
    "!python ../utils/map/scripts/extra/intersect-gt-and-dr.py"
   ]
  },
  {
   "cell_type": "code",
   "execution_count": 37,
   "metadata": {},
   "outputs": [
    {
     "name": "stdout",
     "output_type": "stream",
     "text": [
      "37.77% = hole AP \n",
      "mAP = 37.77%\n",
      "Figure(640x480)\n"
     ]
    }
   ],
   "source": [
    "!python ../utils/map/main.py"
   ]
  },
  {
   "cell_type": "code",
   "execution_count": 38,
   "metadata": {},
   "outputs": [],
   "source": [
    "%rm -rf ../assets/map_mobiledet_real\n",
    "%mkdir ../assets/map_mobiledet_real\n",
    "%cp ../utils/map/output/output.txt ../assets/map_mobiledet_real/output.txt\n",
    "%cp ../utils/map/output/detection-results-info.png ../assets/map_mobiledet_real/detection-results-info.png\n",
    "%cp ../utils/map/output/ground-truth-info.png ../assets/map_mobiledet_real/ground-truth-info.png\n",
    "%cp ../utils/map/output/lamr.png ../assets/map_mobiledet_real/lamr.png\n",
    "%cp ../utils/map/output/mAP.png ../assets/map_mobiledet_real/mAP.png\n",
    "%cp ../utils/map/output/classes/hole.png ../assets/map_mobiledet_real/hole.png"
   ]
  },
  {
   "cell_type": "markdown",
   "metadata": {},
   "source": [
    "Results:\n",
    "\n",
    "| mAP@0.5 |\n",
    "|:-------:|\n",
    "| ![](../assets/map_mobiledet_real/mAP.png) |\n",
    "\n",
    "| Log-average miss rate |\n",
    "|:---------------------:|\n",
    "| ![](../assets/map_mobiledet_real/lamr.png) |\n",
    "\n",
    "| Average precision |\n",
    "|:-----------------:|\n",
    "| ![](../assets/map_mobiledet_real/hole.png) |\n",
    "\n",
    "| Detection results info |\n",
    "|:----------------------:|\n",
    "| ![](../assets/map_mobiledet_real/detection-results-info.png) |\n",
    "\n",
    "| Ground truth info |\n",
    "|:-----------------:|\n",
    "| ![](../assets/map_mobiledet_real/ground-truth-info.png) |\n"
   ]
  },
  {
   "cell_type": "code",
   "execution_count": null,
   "metadata": {},
   "outputs": [],
   "source": []
  }
 ],
 "metadata": {
  "kernelspec": {
   "display_name": "Python 3",
   "language": "python",
   "name": "python3"
  },
  "language_info": {
   "codemirror_mode": {
    "name": "ipython",
    "version": 3
   },
   "file_extension": ".py",
   "mimetype": "text/x-python",
   "name": "python",
   "nbconvert_exporter": "python",
   "pygments_lexer": "ipython3",
   "version": "3.8.3"
  }
 },
 "nbformat": 4,
 "nbformat_minor": 4
}
